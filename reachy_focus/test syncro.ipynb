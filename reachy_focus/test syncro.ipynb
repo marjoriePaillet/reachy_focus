{
 "cells": [
  {
   "cell_type": "code",
   "execution_count": 1,
   "id": "palestinian-noise",
   "metadata": {},
   "outputs": [],
   "source": [
    "import cv2 as cv\n",
    "from zoom_kurokesu import ZoomController\n",
    "from numpy.random import randint\n",
    "import matplotlib.pyplot as plt"
   ]
  },
  {
   "cell_type": "code",
   "execution_count": 2,
   "id": "correct-description",
   "metadata": {},
   "outputs": [],
   "source": [
    "zoom_controller = ZoomController(port = '/dev/ttyACM0')\n",
    "zoom_controller.homing(side='left')\n",
    "zoom_controller.homing(side='right')"
   ]
  },
  {
   "cell_type": "code",
   "execution_count": 3,
   "id": "opposed-dispatch",
   "metadata": {},
   "outputs": [],
   "source": [
    "zoom_controller.send_custom_zoom_two_cameras(500,500)"
   ]
  },
  {
   "cell_type": "code",
   "execution_count": 3,
   "id": "wrapped-elements",
   "metadata": {},
   "outputs": [],
   "source": [
    "zoom_controller.send_custom_focus_two_cameras(500,500)"
   ]
  },
  {
   "cell_type": "code",
   "execution_count": 4,
   "id": "surprised-korean",
   "metadata": {},
   "outputs": [],
   "source": [
    "command = f'G1 X500 Z500 F{zoom_controller.speed}'\n",
    "zoom_controller.ser.write(bytes(command + '\\n', 'utf8'))\n",
    "reponse = zoom_controller.ser.readline()"
   ]
  },
  {
   "cell_type": "code",
   "execution_count": 6,
   "id": "photographic-fabric",
   "metadata": {},
   "outputs": [
    {
     "name": "stdout",
     "output_type": "stream",
     "text": [
      "left command sent\n",
      "right command sent\n"
     ]
    }
   ],
   "source": [
    "zoom_controller._send_custom_command('left',350,0)\n",
    "print (\"left command sent\")\n",
    "zoom_controller._send_custom_command('right',350,0)\n",
    "print(\"right command sent\")"
   ]
  },
  {
   "cell_type": "code",
   "execution_count": 17,
   "id": "noted-restaurant",
   "metadata": {},
   "outputs": [
    {
     "name": "stdout",
     "output_type": "stream",
     "text": [
      "left command sent\n",
      "right command sent\n"
     ]
    }
   ],
   "source": [
    "zoom_controller._send_custom_command('left',350,110)\n",
    "print (\"left command sent\")\n",
    "zoom_controller._send_custom_command('right',350,110)\n",
    "print(\"right command sent\")"
   ]
  },
  {
   "cell_type": "code",
   "execution_count": null,
   "id": "civic-charter",
   "metadata": {},
   "outputs": [],
   "source": []
  }
 ],
 "metadata": {
  "kernelspec": {
   "display_name": "Python 3",
   "language": "python",
   "name": "python3"
  },
  "language_info": {
   "codemirror_mode": {
    "name": "ipython",
    "version": 3
   },
   "file_extension": ".py",
   "mimetype": "text/x-python",
   "name": "python",
   "nbconvert_exporter": "python",
   "pygments_lexer": "ipython3",
   "version": "3.8.5"
  }
 },
 "nbformat": 4,
 "nbformat_minor": 5
}
